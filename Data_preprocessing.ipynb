{
 "cells": [
  {
   "cell_type": "code",
   "execution_count": 5,
   "metadata": {},
   "outputs": [],
   "source": [
    "import pandas as pd\n",
    "from scipy.optimize import fsolve\n",
    "from scipy.stats import norm\n",
    "import numpy as np\n",
    "\n",
    "final_data= pd.read_csv('merged_data.csv')"
   ]
  },
  {
   "cell_type": "code",
   "execution_count": 6,
   "metadata": {},
   "outputs": [],
   "source": [
    "# DD 값이 0 이하인 경우 Default를 1로 설정, 그 외는 0으로 설정\n",
    "final_data['Default'] = (final_data['DD'] <= 0).astype(int)\n",
    "\n",
    "# Step 1: permno를 기준으로 final_data를 그룹화\n",
    "grouped_data = final_data.groupby('permno')\n",
    "\n",
    "# Step 2: 각 그룹 내에서 Default 값을 전 년도로 시프트\n",
    "# shift(1)은 이전 행의 값을 현재 행으로 이동시키는 함수\n",
    "final_data['y'] = grouped_data['Default'].shift(1)\n",
    "\n",
    "\n",
    "\n",
    "\n"
   ]
  },
  {
   "cell_type": "code",
   "execution_count": 7,
   "metadata": {},
   "outputs": [],
   "source": [
    "# Quick Ratio\n",
    "final_data['quick_ratio'] = (final_data['act'] - final_data['invt']) / final_data['lct'].replace(0, np.nan)\n",
    "\n",
    "# Current Ratio\n",
    "final_data['current_ratio'] = final_data['act'] / final_data['lct'].replace(0, np.nan)\n",
    "\n",
    "# Accounts Receivable Turnover\n",
    "final_data['art'] = final_data['sale'] / final_data['rect'].replace(0, np.nan)\n",
    "\n",
    "# EBITDA\n",
    "final_data['ebitda'] = final_data['oiadp'] + final_data['dp']\n",
    "\n",
    "# Inventory Turnover\n",
    "final_data['inventory_turnover'] = final_data['cogs'] / final_data['invt'].replace(0, np.nan)\n",
    "\n",
    "# Return on Equity (ROE)\n",
    "final_data['roe'] = final_data['ni'] / (final_data['at'] - final_data['dltt'] - final_data['dlc']).replace(0, np.nan)\n",
    "\n",
    "# Return on Assets (ROA)\n",
    "final_data['roa'] = final_data['ni'] / final_data['at'].replace(0, np.nan)\n",
    "\n",
    "# Gross Margin\n",
    "final_data['gross_margin'] = (final_data['sale'] - final_data['cogs']) / final_data['sale'].replace(0, np.nan)\n",
    "\n",
    "# Cost of Sales Ratio\n",
    "final_data['cost_of_sales_ratio'] = final_data['cogs'] / final_data['sale'].replace(0, np.nan)\n",
    "\n",
    "# Net Profit Growth Rate YoY (add epsilon to avoid division by zero)\n",
    "final_data = final_data.sort_values(by=['gvkey', 'datadate'])\n",
    "final_data['net_profit_growth'] = final_data.groupby('gvkey')['ni'].pct_change().replace([np.inf, -np.inf], np.nan)\n",
    "\n",
    "# Revenue Growth Rate YoY (add epsilon to avoid division by zero)\n",
    "final_data['revenue_growth'] = final_data.groupby('gvkey')['sale'].pct_change().replace([np.inf, -np.inf], np.nan)\n",
    "\n",
    "# Debt to Asset Ratio\n",
    "final_data['debt_to_asset'] = (final_data['dltt'] + final_data['dlc']) / final_data['at'].replace(0, np.nan)\n",
    "\n",
    "# Handling infinities and missing values\n",
    "final_data.replace([np.inf, -np.inf], np.nan, inplace=True)\n",
    "final_data.dropna(inplace=True)\n",
    "\n",
    "# Drop unnecessary columns after processing\n",
    "final_data = final_data.drop(columns=['act', 'invt', 'lct', 'sale', 'rect', 'oiadp', 'dp', 'cogs', 'ni', 'at', 'dltt', 'dlc','permno','cusip','date','shrout','prc','year','month','gvkey','datadate','sigma_E','DD','Default','che','ib','rf'])\n"
   ]
  },
  {
   "cell_type": "code",
   "execution_count": 8,
   "metadata": {},
   "outputs": [],
   "source": [
    "final_data.to_csv('Data_AfterProcessing.csv', index=False)"
   ]
  },
  {
   "cell_type": "code",
   "execution_count": null,
   "metadata": {},
   "outputs": [],
   "source": []
  }
 ],
 "metadata": {
  "kernelspec": {
   "display_name": "human_class",
   "language": "python",
   "name": "python3"
  },
  "language_info": {
   "codemirror_mode": {
    "name": "ipython",
    "version": 3
   },
   "file_extension": ".py",
   "mimetype": "text/x-python",
   "name": "python",
   "nbconvert_exporter": "python",
   "pygments_lexer": "ipython3",
   "version": "3.12.4"
  }
 },
 "nbformat": 4,
 "nbformat_minor": 2
}
